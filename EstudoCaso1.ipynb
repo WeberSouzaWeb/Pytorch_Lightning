{
 "cells": [
  {
   "cell_type": "markdown",
   "metadata": {
    "colab_type": "text",
    "id": "view-in-github"
   },
   "source": [
    "# <font color='blue'>Weber Souza</font>\n",
    "# <font color='blue'>Deep Learning Para Aplicações de IA com PyTorch e Lightning</font>\n",
    "\n",
    "## <font color='blue'>Estudo de Caso 1</font>\n",
    "## <font color='blue'>Comparando o Efeito de Diferentes Funções de Ativação em Deep Learning</font>"
   ]
  },
  {
   "cell_type": "markdown",
   "metadata": {},
   "source": [
    "![title](imagens/EC1.png)"
   ]
  },
  {
   "cell_type": "markdown",
   "metadata": {},
   "source": [
    "## Instalando e Carregando os Pacotes"
   ]
  },
  {
   "cell_type": "code",
   "execution_count": null,
   "metadata": {},
   "outputs": [],
   "source": [
    "# Versão da Linguagem Python\n",
    "from platform import python_version\n",
    "print('Versão da Linguagem Python Usada Neste Jupyter Notebook:', python_version())"
   ]
  },
  {
   "cell_type": "code",
   "execution_count": null,
   "metadata": {},
   "outputs": [],
   "source": [
    "# Para atualizar um pacote, execute o comando abaixo no terminal ou prompt de comando:\n",
    "# pip install -U nome_pacote\n",
    "\n",
    "# Para instalar a versão exata de um pacote, execute o comando abaixo no terminal ou prompt de comando:\n",
    "# !pip install nome_pacote==versão_desejada\n",
    "\n",
    "# Depois de instalar ou atualizar o pacote, reinicie o jupyter notebook.\n",
    "\n",
    "# Instala o pacote watermark. \n",
    "# Esse pacote é usado para gravar as versões de outros pacotes usados neste jupyter notebook.\n",
    "# !pip install -q -U watermark"
   ]
  },
  {
   "cell_type": "code",
   "execution_count": null,
   "metadata": {},
   "outputs": [],
   "source": [
    "!pip install -q torch==1.13.0"
   ]
  },
  {
   "cell_type": "code",
   "execution_count": null,
   "metadata": {},
   "outputs": [],
   "source": [
    "!pip install -q torchvision==0.14.0"
   ]
  },
  {
   "cell_type": "code",
   "execution_count": 1,
   "metadata": {},
   "outputs": [],
   "source": [
    "import os\n",
    "os.environ[\"KMP_DUPLICATE_LIB_OK\"]=\"TRUE\""
   ]
  },
  {
   "cell_type": "code",
   "execution_count": 2,
   "metadata": {},
   "outputs": [],
   "source": [
    "# Imports\n",
    "import time\n",
    "import torch\n",
    "import torchvision\n",
    "import torch.nn as nn\n",
    "import torch.optim as optim\n",
    "import torch.nn.functional as F\n",
    "from torchvision import datasets, transforms\n",
    "import matplotlib.pyplot as plt\n",
    "import matplotlib\n",
    "import numpy as np"
   ]
  },
  {
   "cell_type": "code",
   "execution_count": 3,
   "metadata": {},
   "outputs": [
    {
     "name": "stdout",
     "output_type": "stream",
     "text": [
      "Author: Data Science Academy\n",
      "\n",
      "torchvision: 0.14.0\n",
      "torch      : 1.13.0+cu116\n",
      "numpy      : 1.21.5\n",
      "matplotlib : 3.5.2\n",
      "\n"
     ]
    }
   ],
   "source": [
    "# Versões dos pacotes usados neste jupyter notebook\n",
    "%reload_ext watermark\n",
    "%watermark -a \"Weber Souza\" --iversions"
   ]
  },
  {
   "cell_type": "markdown",
   "metadata": {},
   "source": [
    "## Carregando os Dados e Definindo as Transformações\n",
    "\n",
    "Para este estudo de caso nosso objetivo é construir um modelo de classificação de imagens, ou seja, um modelo de Visão Computacional. Dada uma imagem o modelo deve entregar a probabilidade de classe a qual a imagem pertence.\n",
    "\n",
    "Nosso conjunto de dados contém imagens de dígitos de 0 a 9. Cada imagem tem um dígito em diferentes formatos. Logo, cada imagem pode pertencer a uma de 10 classes possíveis. Criaremos um modelo de classificação multiclasse."
   ]
  },
  {
   "cell_type": "markdown",
   "metadata": {},
   "source": [
    "Antes de fazer o download dos dados, vamos definir quais são as transformações que queremos executar em nossos dados.\n",
    "\n",
    "Vamos aplicar uma edição personalizada nas imagens, para que todas as imagens tenham as mesmas dimensões e propriedades. Fazemos isso usando torchvision.transforms.\n",
    "\n",
    "* O método transforms.ToTensor() converte a imagem em números, que são compreensíveis pelo sistema. Ele separa a imagem em três canais de cores: vermelho, verde e azul (RGB). Em seguida, converte os pixels de cada imagem no brilho de suas cores entre 0 e 255. Esses valores são reduzidos para um intervalo entre 0 e 1. A imagem agora é um tensor PyTorch.\n",
    "\n",
    "\n",
    "* O método transforms.Normalize() normaliza o tensor colocando os valores na mesma escala."
   ]
  },
  {
   "cell_type": "code",
   "execution_count": 4,
   "metadata": {},
   "outputs": [],
   "source": [
    "# Função para transformar os dados ao carregar, aplicando normalização com média e desvio padrão de 0.5\n",
    "transformacoes = transforms.Compose([transforms.ToTensor(), transforms.Normalize((0.5,), (0.5,))])"
   ]
  },
  {
   "cell_type": "markdown",
   "metadata": {},
   "source": [
    "Agora baixamos os conjuntos de dados, embaralhamos e transformamos. Fazemos o download dos conjuntos de dados e os carregamos no DataLoader, que combina o conjunto de dados e um amostrador e fornece iteradores de processo único ou multiprocessos sobre o conjunto de dados."
   ]
  },
  {
   "cell_type": "code",
   "execution_count": 5,
   "metadata": {},
   "outputs": [],
   "source": [
    "# Carrega os dados de treino\n",
    "dados_treino = torch.utils.data.DataLoader(datasets.MNIST('dados', \n",
    "                                                          train = True, \n",
    "                                                          download = True, \n",
    "                                                          transform = transformacoes),\n",
    "                                                          batch_size = 64, \n",
    "                                                          shuffle = True)"
   ]
  },
  {
   "cell_type": "code",
   "execution_count": 6,
   "metadata": {},
   "outputs": [],
   "source": [
    "# Carrega os dados de teste\n",
    "dados_teste = torch.utils.data.DataLoader(datasets.MNIST('dados', \n",
    "                                                         train = False, \n",
    "                                                         transform = transformacoes),\n",
    "                                                         batch_size = 64, \n",
    "                                                         shuffle = True)"
   ]
  },
  {
   "cell_type": "markdown",
   "metadata": {},
   "source": [
    "O tamanho do lote é o número de imagens que queremos ler de uma só vez."
   ]
  },
  {
   "cell_type": "code",
   "execution_count": 7,
   "metadata": {},
   "outputs": [],
   "source": [
    "# Visualizando a dimensão dos dados de treino\n",
    "dataiter = iter(dados_treino)\n",
    "images, labels = next(dataiter)"
   ]
  },
  {
   "cell_type": "code",
   "execution_count": 8,
   "metadata": {},
   "outputs": [
    {
     "name": "stdout",
     "output_type": "stream",
     "text": [
      "torch.Size([64, 1, 28, 28])\n",
      "torch.Size([64])\n"
     ]
    }
   ],
   "source": [
    "print(images.shape)\n",
    "print(labels.shape)"
   ]
  },
  {
   "cell_type": "markdown",
   "metadata": {},
   "source": [
    "O formato das imagens torch.Size ([64,1,28,28]), indica que existem 64 imagens em cada lote e cada imagem tem uma dimensão de 28 x 28 pixels. Da mesma forma, os rótulos têm a forma de torch.Size ([64]). \n",
    "\n",
    "Adivinha por que? - Sim, você está certo! 64 imagens devem ter 64 rótulos, respectivamente. É isso aí. Fácil!"
   ]
  },
  {
   "cell_type": "code",
   "execution_count": 9,
   "metadata": {},
   "outputs": [
    {
     "data": {
      "image/png": "[encoded data removed]",
      "text/plain": [
       "<Figure size 640x480 with 1 Axes>"
      ]
     },
     "metadata": {},
     "output_type": "display_data"
    }
   ],
   "source": [
    "# Visualizando uma imagem\n",
    "plt.imshow(images[0].numpy().squeeze(), cmap = 'gray_r');"
   ]
  },
  {
   "cell_type": "code",
   "execution_count": 10,
   "metadata": {},
   "outputs": [
    {
     "data": {
      "image/png": "[encoded data removed]",
      "text/plain": [
       "<Figure size 640x480 with 60 Axes>"
      ]
     },
     "metadata": {},
     "output_type": "display_data"
    }
   ],
   "source": [
    "# Visualizando várias imagens\n",
    "figure = plt.figure()\n",
    "num_of_images = 60\n",
    "for index in range(1, num_of_images + 1):\n",
    "    plt.subplot(6, 10, index)\n",
    "    plt.axis('off')\n",
    "    plt.imshow(images[index].numpy().squeeze(), cmap = 'gray_r')"
   ]
  },
  {
   "cell_type": "markdown",
   "metadata": {},
   "source": [
    "## Modelagem\n",
    "\n",
    "Arquitetura do Modelo:"
   ]
  },
  {
   "cell_type": "markdown",
   "metadata": {},
   "source": [
    "![](./imagens/nn.png)\n",
    "\n",
    "Vamos começar com a ReLu e analisar o efeito de diferentes funções de ativação.\n",
    "\n",
    "https://pytorch.org/docs/stable/nn.html#non-linear-activations-weighted-sum-nonlinearity"
   ]
  },
  {
   "cell_type": "code",
   "execution_count": 11,
   "metadata": {},
   "outputs": [],
   "source": [
    "# Hiperparâmetros da rede\n",
    "input_size = 784\n",
    "hidden_sizes = [128, 64]\n",
    "output_size = 10"
   ]
  },
  {
   "cell_type": "markdown",
   "metadata": {},
   "source": [
    "### Função de Ativação ReLU \n",
    "\n",
    "ReLU significa função de ativação linear retificada. É uma função não linear e, graficamente, ReLU tem o seguinte comportamento transformativo:\n",
    "\n",
    "![](./imagens/relu.png)\n",
    "\n",
    "ReLU é uma função de ativação popular, pois é diferenciável e não linear. Se as entradas forem negativas, sua derivada torna-se zero, o que causa a \"morte\" dos neurônios e o aprendizado não ocorre. A ReLU permite a passagem de valores positivos, enquanto valores negativos são modificados para zero."
   ]
  },
  {
   "cell_type": "code",
   "execution_count": 12,
   "metadata": {},
   "outputs": [],
   "source": [
    "# Modelo com função de ativação ReLu\n",
    "modelo_fa = nn.Sequential(nn.Linear(input_size, hidden_sizes[0]),  # 784 x 128\n",
    "                          nn.ReLU(),\n",
    "                          nn.Linear(hidden_sizes[0], hidden_sizes[1]),  # 128 x 64\n",
    "                          nn.ReLU(),\n",
    "                          nn.Linear(hidden_sizes[1], output_size),  # 64 x 10\n",
    "                          nn.LogSoftmax(dim = 1))"
   ]
  },
  {
   "cell_type": "markdown",
   "metadata": {},
   "source": [
    "### Função de Ativação LeakyReLU \n",
    "\n",
    "Leaky ReLU Activation Function ou LReLU é outro tipo de função de ativação que é semelhante a ReLU, mas resolve o problema de neurônios 'mortos' e, graficamente, a Leaky ReLU tem o seguinte comportamento transformativo:\n",
    "\n",
    "![](./imagens/lrelu.png)\n",
    "\n",
    "Esta função é muito útil porque quando a entrada é negativa a diferenciação da função não é zero. Portanto, o aprendizado dos neurônios não para. "
   ]
  },
  {
   "cell_type": "code",
   "execution_count": 13,
   "metadata": {},
   "outputs": [],
   "source": [
    "# Modelo com função de ativação LeakyReLU\n",
    "#modelo_fa = nn.Sequential(nn.Linear(input_size, hidden_sizes[0]),  # 784 x 128\n",
    "#                          nn.LeakyReLU(0.2),\n",
    "#                          nn.Linear(hidden_sizes[0], hidden_sizes[1]),  # 128 x 64\n",
    "#                          nn.LeakyReLU(0.2),\n",
    "#                          nn.Linear(hidden_sizes[1], output_size),  # 64 x 10\n",
    "#                          nn.LogSoftmax(dim = 1))"
   ]
  },
  {
   "cell_type": "markdown",
   "metadata": {},
   "source": [
    "### Função de Ativação Sigmoid \n",
    "\n",
    "A Função Sigmoide é uma função de ativação não linear e diferenciável. É uma curva em forma de S que não passa pela origem. Ela produz uma saída que fica entre 0 e 1. Os valores de saída são frequentemente tratados como uma probabilidade. É frequentemente usado para classificação binária. É lento na computação e, graficamente, a Sigmoid tem o seguinte comportamento transformativo:\n",
    "\n",
    "![](./imagens/sigmoid.png)\n",
    "\n",
    "A função de ativação sigmóide tem um problema de “Vanishing Gradient”. Vanishing Gradient é um problema significativo, pois um grande número de entradas é alimentado para a rede neural e o número de camadas ocultas aumenta, o gradiente ou derivada torna-se próximo de zero, levando à imprecisão na rede neural. Usamos a sigmóide em situações bem específicas."
   ]
  },
  {
   "cell_type": "code",
   "execution_count": 14,
   "metadata": {},
   "outputs": [],
   "source": [
    "# Modelo com função de ativação Sigmoid\n",
    "#modelo_fa = nn.Sequential(nn.Linear(input_size, hidden_sizes[0]),  # 784 x 128\n",
    "#                          nn.Sigmoid(),\n",
    "#                          nn.Linear(hidden_sizes[0], hidden_sizes[1]),  # 128 x 64\n",
    "#                          nn.Sigmoid(),\n",
    "#                          nn.Linear(hidden_sizes[1], output_size),  # 64 x 10\n",
    "#                          nn.LogSoftmax(dim = 1))"
   ]
  },
  {
   "cell_type": "markdown",
   "metadata": {},
   "source": [
    "### Função de Ativação Tanh \n",
    "\n",
    "A função Tanh é uma função não linear e diferenciável semelhante à função sigmóide, mas os valores de saída variam de -1 a +1. É uma curva em forma de S que passa pela origem e, graficamente Tanh tem o seguinte comportamento transformativo:\n",
    "\n",
    "![](./imagens/tanh.png)\n",
    "\n",
    "O problema com a função Tanh é que ela é lenta e o problema do “Vanishing Gradient” persiste. "
   ]
  },
  {
   "cell_type": "code",
   "execution_count": 15,
   "metadata": {},
   "outputs": [],
   "source": [
    "# Modelo com função de ativação Tanh\n",
    "#modelo_fa = nn.Sequential(nn.Linear(input_size, hidden_sizes[0]),  # 784 x 128\n",
    "#                          nn.Tanh(),\n",
    "#                          nn.Linear(hidden_sizes[0], hidden_sizes[1]),  # 128 x 64\n",
    "#                          nn.Tanh(),\n",
    "#                          nn.Linear(hidden_sizes[1], output_size),  # 64 x 10\n",
    "#                          nn.LogSoftmax(dim = 1))"
   ]
  },
  {
   "cell_type": "code",
   "execution_count": 16,
   "metadata": {},
   "outputs": [
    {
     "name": "stdout",
     "output_type": "stream",
     "text": [
      "Sequential(\n",
      "  (0): Linear(in_features=784, out_features=128, bias=True)\n",
      "  (1): ReLU()\n",
      "  (2): Linear(in_features=128, out_features=64, bias=True)\n",
      "  (3): ReLU()\n",
      "  (4): Linear(in_features=64, out_features=10, bias=True)\n",
      "  (5): LogSoftmax(dim=1)\n",
      ")\n"
     ]
    }
   ],
   "source": [
    "print(modelo_fa)"
   ]
  },
  {
   "cell_type": "markdown",
   "metadata": {},
   "source": [
    "O nn.Sequential envolve as camadas na rede. Existem três camadas lineares e duas camadas com função de ativação. A camada de saída é uma camada linear com a ativação LogSoftmax porque este é um problema de classificação.\n",
    "\n",
    "Tecnicamente, uma função LogSoftmax é o logaritmo de uma função Softmax como o nome indica e se parece com isso, conforme mostrado abaixo.\n",
    "\n",
    "![](./imagens/logsoftmax.png)"
   ]
  },
  {
   "cell_type": "markdown",
   "metadata": {},
   "source": [
    "Em seguida, definimos a perda de probabilidade logarítmica negativa (**negative log-likelihood loss**). Juntos, o LogSoftmax() e o NLLLoss() atuam como a perda de entropia cruzada, conforme mostrado no diagrama da arquitetura de rede acima.\n",
    "\n",
    "Além disso, você deve estar se perguntando por que temos 784 unidades na primeira camada. É porque \"achatamos\" cada imagem antes de enviá-la para dentro da rede neural. (28 x 28 = 784)"
   ]
  },
  {
   "cell_type": "code",
   "execution_count": 17,
   "metadata": {},
   "outputs": [],
   "source": [
    "# Função de custo do modelo\n",
    "criterion = nn.NLLLoss()"
   ]
  },
  {
   "cell_type": "code",
   "execution_count": 18,
   "metadata": {},
   "outputs": [],
   "source": [
    "# Obtendo os lotes de dados\n",
    "images, labels = next(iter(dados_treino))"
   ]
  },
  {
   "cell_type": "code",
   "execution_count": 19,
   "metadata": {},
   "outputs": [],
   "source": [
    "# Ajustando o shape\n",
    "images = images.view(images.shape[0], -1)"
   ]
  },
  {
   "cell_type": "code",
   "execution_count": 20,
   "metadata": {},
   "outputs": [],
   "source": [
    "# Logs das probabilidades de classe\n",
    "logps = modelo_fa(images) "
   ]
  },
  {
   "cell_type": "code",
   "execution_count": 21,
   "metadata": {},
   "outputs": [],
   "source": [
    "# Perda\n",
    "loss = criterion(logps, labels) "
   ]
  },
  {
   "cell_type": "markdown",
   "metadata": {},
   "source": [
    "Uma rede neural aprende iterando várias vezes nos dados disponíveis. Os termos aprendidos referem-se ao ajuste de pesos da rede para minimizar a perda. Vamos visualizar como funciona."
   ]
  },
  {
   "cell_type": "code",
   "execution_count": 22,
   "metadata": {},
   "outputs": [
    {
     "name": "stdout",
     "output_type": "stream",
     "text": [
      "\n",
      "Antes do Backward Pass: \n",
      " None\n",
      "\n",
      "Depois do Backward Pass: \n",
      " tensor([[ 0.0041,  0.0041,  0.0041,  ...,  0.0041,  0.0041,  0.0041],\n",
      "        [-0.0005, -0.0005, -0.0005,  ..., -0.0005, -0.0005, -0.0005],\n",
      "        [ 0.0070,  0.0070,  0.0070,  ...,  0.0070,  0.0070,  0.0070],\n",
      "        ...,\n",
      "        [ 0.0052,  0.0052,  0.0052,  ...,  0.0052,  0.0052,  0.0052],\n",
      "        [ 0.0002,  0.0002,  0.0002,  ...,  0.0002,  0.0002,  0.0002],\n",
      "        [ 0.0043,  0.0043,  0.0043,  ...,  0.0043,  0.0043,  0.0043]])\n"
     ]
    }
   ],
   "source": [
    "print('\\nAntes do Backward Pass: \\n', modelo_fa[0].weight.grad)\n",
    "loss.backward()\n",
    "print('\\nDepois do Backward Pass: \\n', modelo_fa[0].weight.grad)"
   ]
  },
  {
   "cell_type": "markdown",
   "metadata": {},
   "source": [
    "Treinamento"
   ]
  },
  {
   "cell_type": "code",
   "execution_count": 23,
   "metadata": {},
   "outputs": [
    {
     "name": "stdout",
     "output_type": "stream",
     "text": [
      "Epoch: 0, Tempo Decorrido: 14.49s, Loss(Erro): 0.63747131966674\n",
      "Epoch: 1, Tempo Decorrido: 14.93s, Loss(Erro): 0.284761002267411\n",
      "Epoch: 2, Tempo Decorrido: 15.13s, Loss(Erro): 0.219677606394995\n",
      "Epoch: 3, Tempo Decorrido: 15.65s, Loss(Erro): 0.175849533165251\n",
      "Epoch: 4, Tempo Decorrido: 14.22s, Loss(Erro): 0.1456406032765852\n"
     ]
    }
   ],
   "source": [
    "# Otimizador\n",
    "optimizer = optim.SGD(modelo_fa.parameters(), lr = 0.003, momentum = 0.9)\n",
    "\n",
    "# Número de épocas\n",
    "epochs = 5\n",
    "\n",
    "# Loop de treinamento\n",
    "for e in range(epochs):\n",
    "    \n",
    "    # Registra o momento de início da época\n",
    "    start_time = time.time()\n",
    "    \n",
    "    # Zera o erro da época\n",
    "    running_loss = 0\n",
    "    \n",
    "    # Loop pelas imagens e labels\n",
    "    for images, labels in dados_treino:\n",
    "        \n",
    "        # Flatten das imagens \n",
    "        images = images.view(images.shape[0], -1)\n",
    "    \n",
    "        # Zera os gradientes\n",
    "        optimizer.zero_grad()\n",
    "        \n",
    "        # Previsão com o modelo\n",
    "        output = modelo_fa(images)\n",
    "        \n",
    "        # Cálculo do erro\n",
    "        loss = criterion(output, labels)\n",
    "        \n",
    "        # Aqui acontece o aprendizado com backpropagation\n",
    "        loss.backward()\n",
    "        \n",
    "        # E aqui otimiza os pesos\n",
    "        optimizer.step()\n",
    "        \n",
    "        running_loss += loss.item()\n",
    "    else:\n",
    "        print('Epoch: {0}, Tempo Decorrido: {1:.2f}s, Loss(Erro): {2}'.format(e, \n",
    "                                                                          time.time() - start_time, \n",
    "                                                                          running_loss / len(dados_treino)))"
   ]
  },
  {
   "cell_type": "markdown",
   "metadata": {},
   "source": [
    "Avaliação e teste"
   ]
  },
  {
   "cell_type": "code",
   "execution_count": 24,
   "metadata": {},
   "outputs": [],
   "source": [
    "# Função para visualizar a classificação\n",
    "def visualiza_classe(img, ps):\n",
    "    ps = ps.data.numpy().squeeze()\n",
    "    fig, (ax1, ax2) = plt.subplots(figsize = (6,9), ncols = 2)\n",
    "    ax1.imshow(img.resize_(1, 28, 28).numpy().squeeze())\n",
    "    ax1.axis('off')\n",
    "    ax2.barh(np.arange(10), ps)\n",
    "    ax2.set_aspect(0.1)\n",
    "    ax2.set_yticks(np.arange(10))\n",
    "    ax2.set_yticklabels(np.arange(10))\n",
    "    ax2.set_title('Probabilidade de Classe')\n",
    "    ax2.set_xlim(0, 1.1)\n",
    "    plt.tight_layout()"
   ]
  },
  {
   "cell_type": "code",
   "execution_count": 25,
   "metadata": {},
   "outputs": [
    {
     "name": "stdout",
     "output_type": "stream",
     "text": [
      "Dígito Previsto = 7\n"
     ]
    },
    {
     "data": {
      "image/png": "[encoded data removed]",
      "text/plain": [
       "<Figure size 600x900 with 2 Axes>"
      ]
     },
     "metadata": {},
     "output_type": "display_data"
    }
   ],
   "source": [
    "# Obtém uma imagem de teste\n",
    "images, labels = next(iter(dados_teste))\n",
    "\n",
    "# Ajusta a imagem\n",
    "img = images[0].view(1, 784)\n",
    "\n",
    "# Faz previsão com a imagem\n",
    "with torch.no_grad():\n",
    "    logps = modelo_fa(img)\n",
    "\n",
    "# Log de probabilidade da previsão\n",
    "ps = torch.exp(logps)\n",
    "probab = list(ps.numpy()[0])\n",
    "\n",
    "# Print\n",
    "print(\"Dígito Previsto =\", probab.index(max(probab)))\n",
    "\n",
    "# Visualiza classe\n",
    "visualiza_classe(img.view(1, 28, 28), ps)"
   ]
  },
  {
   "cell_type": "markdown",
   "metadata": {},
   "source": [
    "Agora, iteramos pelo conjunto de teste usando um loop for e calculamos o número total de previsões corretas. É assim que podemos calcular a precisão."
   ]
  },
  {
   "cell_type": "code",
   "execution_count": 26,
   "metadata": {},
   "outputs": [
    {
     "name": "stdout",
     "output_type": "stream",
     "text": [
      "Número de Imagens Testadas = 10000\n",
      "Acurácia nos Dados de Teste (%) = 95.87\n"
     ]
    }
   ],
   "source": [
    "# Avaliando o modelo\n",
    "\n",
    "# Contadores\n",
    "correct_count, all_count = 0, 0\n",
    "\n",
    "# Loop\n",
    "for images,labels in dados_teste:\n",
    "    for i in range(len(labels)):\n",
    "        \n",
    "        img = images[i].view(1, 784)\n",
    "        \n",
    "        with torch.no_grad():\n",
    "            logps = modelo_fa(img)\n",
    "\n",
    "        ps = torch.exp(logps)\n",
    "        \n",
    "        probab = list(ps.numpy()[0])\n",
    "        \n",
    "        pred_label = probab.index(max(probab))\n",
    "        \n",
    "        true_label = labels.numpy()[i]\n",
    "        \n",
    "        if(true_label == pred_label):\n",
    "            correct_count += 1\n",
    "        \n",
    "        all_count += 1\n",
    "\n",
    "print(\"Número de Imagens Testadas =\", all_count)\n",
    "print(\"Acurácia nos Dados de Teste (%) =\", (correct_count/all_count) * 100)"
   ]
  },
  {
   "cell_type": "code",
   "execution_count": 27,
   "metadata": {},
   "outputs": [],
   "source": [
    "# Salvando o modelo\n",
    "torch.save(modelo_fa, 'modelos/modelo_fa.pt') "
   ]
  },
  {
   "cell_type": "code",
   "execution_count": 28,
   "metadata": {},
   "outputs": [],
   "source": [
    "# Resultado da avaliação dos modelos (pode ser ligeiramente diferente a cada execução)\n",
    "\n",
    "# ReLU - Acc de 96.05%\n",
    "# LeakyReLU - Acc de 95.40%\n",
    "# Sigmoid - Acc de 88.51%\n",
    "# Tanh - Acc de 95.52%"
   ]
  },
  {
   "cell_type": "markdown",
   "metadata": {},
   "source": [
    "# Fim"
   ]
  }
 ],
 "metadata": {
  "accelerator": "GPU",
  "colab": {
   "authorship_tag": "ABX9TyPJPLWzj9z0gtKxTRJMUR6P",
   "collapsed_sections": [],
   "include_colab_link": true,
   "machine_shape": "hm",
   "name": "NN From Scratch.ipynb",
   "provenance": []
  },
  "kernelspec": {
   "display_name": "Python 3 (ipykernel)",
   "language": "python",
   "name": "python3"
  },
  "language_info": {
   "codemirror_mode": {
    "name": "ipython",
    "version": 3
   },
   "file_extension": ".py",
   "mimetype": "text/x-python",
   "name": "python",
   "nbconvert_exporter": "python",
   "pygments_lexer": "ipython3",
   "version": "3.9.13"
  },
  "widgets": {
   "application/vnd.jupyter.widget-state+json": {
    "1356b29002354e48b5fe914d48e53f9e": {
     "model_module": "@jupyter-widgets/base",
     "model_name": "LayoutModel",
     "state": {
      "_model_module": "@jupyter-widgets/base",
      "_model_module_version": "1.2.0",
      "_model_name": "LayoutModel",
      "_view_count": null,
      "_view_module": "@jupyter-widgets/base",
      "_view_module_version": "1.2.0",
      "_view_name": "LayoutView",
      "align_content": null,
      "align_items": null,
      "align_self": null,
      "border": null,
      "bottom": null,
      "display": null,
      "flex": null,
      "flex_flow": null,
      "grid_area": null,
      "grid_auto_columns": null,
      "grid_auto_flow": null,
      "grid_auto_rows": null,
      "grid_column": null,
      "grid_gap": null,
      "grid_row": null,
      "grid_template_areas": null,
      "grid_template_columns": null,
      "grid_template_rows": null,
      "height": null,
      "justify_content": null,
      "justify_items": null,
      "left": null,
      "margin": null,
      "max_height": null,
      "max_width": null,
      "min_height": null,
      "min_width": null,
      "object_fit": null,
      "object_position": null,
      "order": null,
      "overflow": null,
      "overflow_x": null,
      "overflow_y": null,
      "padding": null,
      "right": null,
      "top": null,
      "visibility": null,
      "width": null
     }
    },
    "2127aa643a784d5383871c0d7cb07d27": {
     "model_module": "@jupyter-widgets/controls",
     "model_name": "HBoxModel",
     "state": {
      "_dom_classes": [],
      "_model_module": "@jupyter-widgets/controls",
      "_model_module_version": "1.5.0",
      "_model_name": "HBoxModel",
      "_view_count": null,
      "_view_module": "@jupyter-widgets/controls",
      "_view_module_version": "1.5.0",
      "_view_name": "HBoxView",
      "box_style": "",
      "children": [
       "IPY_MODEL_231c0c52fd874eeda73a46debc091b27",
       "IPY_MODEL_4e7fa99a9f484d4dad7bd43d39ba1a43"
      ],
      "layout": "IPY_MODEL_e36be13b19bd4c58b460d51057f23045"
     }
    },
    "231c0c52fd874eeda73a46debc091b27": {
     "model_module": "@jupyter-widgets/controls",
     "model_name": "IntProgressModel",
     "state": {
      "_dom_classes": [],
      "_model_module": "@jupyter-widgets/controls",
      "_model_module_version": "1.5.0",
      "_model_name": "IntProgressModel",
      "_view_count": null,
      "_view_module": "@jupyter-widgets/controls",
      "_view_module_version": "1.5.0",
      "_view_name": "ProgressView",
      "bar_style": "success",
      "description": "",
      "description_tooltip": null,
      "layout": "IPY_MODEL_1356b29002354e48b5fe914d48e53f9e",
      "max": 1,
      "min": 0,
      "orientation": "horizontal",
      "style": "IPY_MODEL_60aa6c61c26b45419d8ea5ff590df69b",
      "value": 1
     }
    },
    "244532a2fbe946329c327be28dc6af32": {
     "model_module": "@jupyter-widgets/controls",
     "model_name": "HTMLModel",
     "state": {
      "_dom_classes": [],
      "_model_module": "@jupyter-widgets/controls",
      "_model_module_version": "1.5.0",
      "_model_name": "HTMLModel",
      "_view_count": null,
      "_view_module": "@jupyter-widgets/controls",
      "_view_module_version": "1.5.0",
      "_view_name": "HTMLView",
      "description": "",
      "description_tooltip": null,
      "layout": "IPY_MODEL_872fcd4618d7473abc29de1e5476a673",
      "placeholder": "​",
      "style": "IPY_MODEL_6b27c13c41284ed7accff42fe6bdfe11",
      "value": "1654784it [00:03, 497428.79it/s]"
     }
    },
    "306b116c7830404a9cd207038503587d": {
     "model_module": "@jupyter-widgets/controls",
     "model_name": "ProgressStyleModel",
     "state": {
      "_model_module": "@jupyter-widgets/controls",
      "_model_module_version": "1.5.0",
      "_model_name": "ProgressStyleModel",
      "_view_count": null,
      "_view_module": "@jupyter-widgets/base",
      "_view_module_version": "1.2.0",
      "_view_name": "StyleView",
      "bar_color": null,
      "description_width": ""
     }
    },
    "40d2c12153de4d45a9f13f13405bed9b": {
     "model_module": "@jupyter-widgets/controls",
     "model_name": "IntProgressModel",
     "state": {
      "_dom_classes": [],
      "_model_module": "@jupyter-widgets/controls",
      "_model_module_version": "1.5.0",
      "_model_name": "IntProgressModel",
      "_view_count": null,
      "_view_module": "@jupyter-widgets/controls",
      "_view_module_version": "1.5.0",
      "_view_name": "ProgressView",
      "bar_style": "success",
      "description": "",
      "description_tooltip": null,
      "layout": "IPY_MODEL_b9baac87888f47348d13cf5c522678f6",
      "max": 1,
      "min": 0,
      "orientation": "horizontal",
      "style": "IPY_MODEL_5dd4473cd2734fe9ac7e041ce23a3b0c",
      "value": 1
     }
    },
    "48e1505dcd2d4e579e832ade36a3e5b0": {
     "model_module": "@jupyter-widgets/controls",
     "model_name": "HBoxModel",
     "state": {
      "_dom_classes": [],
      "_model_module": "@jupyter-widgets/controls",
      "_model_module_version": "1.5.0",
      "_model_name": "HBoxModel",
      "_view_count": null,
      "_view_module": "@jupyter-widgets/controls",
      "_view_module_version": "1.5.0",
      "_view_name": "HBoxView",
      "box_style": "",
      "children": [
       "IPY_MODEL_d18f1830350945cab465770178d5366d",
       "IPY_MODEL_67c27fe7f82844d39d6fe6fe8beb6990"
      ],
      "layout": "IPY_MODEL_d66b7ef7d5f54d2e98d02c53c9f8048f"
     }
    },
    "4e7fa99a9f484d4dad7bd43d39ba1a43": {
     "model_module": "@jupyter-widgets/controls",
     "model_name": "HTMLModel",
     "state": {
      "_dom_classes": [],
      "_model_module": "@jupyter-widgets/controls",
      "_model_module_version": "1.5.0",
      "_model_name": "HTMLModel",
      "_view_count": null,
      "_view_module": "@jupyter-widgets/controls",
      "_view_module_version": "1.5.0",
      "_view_name": "HTMLView",
      "description": "",
      "description_tooltip": null,
      "layout": "IPY_MODEL_d84af69013d349219e67e3fa711c77ec",
      "placeholder": "​",
      "style": "IPY_MODEL_b90a60b90d684bf2851a7d23ec5ab562",
      "value": "9920512it [00:07, 1362915.52it/s]"
     }
    },
    "4fc94422e2154f5ab30cb6e5e7a1306c": {
     "model_module": "@jupyter-widgets/base",
     "model_name": "LayoutModel",
     "state": {
      "_model_module": "@jupyter-widgets/base",
      "_model_module_version": "1.2.0",
      "_model_name": "LayoutModel",
      "_view_count": null,
      "_view_module": "@jupyter-widgets/base",
      "_view_module_version": "1.2.0",
      "_view_name": "LayoutView",
      "align_content": null,
      "align_items": null,
      "align_self": null,
      "border": null,
      "bottom": null,
      "display": null,
      "flex": null,
      "flex_flow": null,
      "grid_area": null,
      "grid_auto_columns": null,
      "grid_auto_flow": null,
      "grid_auto_rows": null,
      "grid_column": null,
      "grid_gap": null,
      "grid_row": null,
      "grid_template_areas": null,
      "grid_template_columns": null,
      "grid_template_rows": null,
      "height": null,
      "justify_content": null,
      "justify_items": null,
      "left": null,
      "margin": null,
      "max_height": null,
      "max_width": null,
      "min_height": null,
      "min_width": null,
      "object_fit": null,
      "object_position": null,
      "order": null,
      "overflow": null,
      "overflow_x": null,
      "overflow_y": null,
      "padding": null,
      "right": null,
      "top": null,
      "visibility": null,
      "width": null
     }
    },
    "5dd4473cd2734fe9ac7e041ce23a3b0c": {
     "model_module": "@jupyter-widgets/controls",
     "model_name": "ProgressStyleModel",
     "state": {
      "_model_module": "@jupyter-widgets/controls",
      "_model_module_version": "1.5.0",
      "_model_name": "ProgressStyleModel",
      "_view_count": null,
      "_view_module": "@jupyter-widgets/base",
      "_view_module_version": "1.2.0",
      "_view_name": "StyleView",
      "bar_color": null,
      "description_width": ""
     }
    },
    "5fd02b64101e4833b550060866a24f0e": {
     "model_module": "@jupyter-widgets/controls",
     "model_name": "HBoxModel",
     "state": {
      "_dom_classes": [],
      "_model_module": "@jupyter-widgets/controls",
      "_model_module_version": "1.5.0",
      "_model_name": "HBoxModel",
      "_view_count": null,
      "_view_module": "@jupyter-widgets/controls",
      "_view_module_version": "1.5.0",
      "_view_name": "HBoxView",
      "box_style": "",
      "children": [
       "IPY_MODEL_d865ed2098944935a9a27245bde5f2b9",
       "IPY_MODEL_244532a2fbe946329c327be28dc6af32"
      ],
      "layout": "IPY_MODEL_974b0e153d2142d6868df4f2252b8666"
     }
    },
    "60aa6c61c26b45419d8ea5ff590df69b": {
     "model_module": "@jupyter-widgets/controls",
     "model_name": "ProgressStyleModel",
     "state": {
      "_model_module": "@jupyter-widgets/controls",
      "_model_module_version": "1.5.0",
      "_model_name": "ProgressStyleModel",
      "_view_count": null,
      "_view_module": "@jupyter-widgets/base",
      "_view_module_version": "1.2.0",
      "_view_name": "StyleView",
      "bar_color": null,
      "description_width": ""
     }
    },
    "67c27fe7f82844d39d6fe6fe8beb6990": {
     "model_module": "@jupyter-widgets/controls",
     "model_name": "HTMLModel",
     "state": {
      "_dom_classes": [],
      "_model_module": "@jupyter-widgets/controls",
      "_model_module_version": "1.5.0",
      "_model_name": "HTMLModel",
      "_view_count": null,
      "_view_module": "@jupyter-widgets/controls",
      "_view_module_version": "1.5.0",
      "_view_name": "HTMLView",
      "description": "",
      "description_tooltip": null,
      "layout": "IPY_MODEL_c1ec42f7c3c9443c94b805eaed2f4f87",
      "placeholder": "​",
      "style": "IPY_MODEL_98c22efb49d14f1d9fa1521027fc9538",
      "value": "8192it [00:01, 5126.97it/s]"
     }
    },
    "69747ede55db406aa8ce10385ec8a347": {
     "model_module": "@jupyter-widgets/controls",
     "model_name": "ProgressStyleModel",
     "state": {
      "_model_module": "@jupyter-widgets/controls",
      "_model_module_version": "1.5.0",
      "_model_name": "ProgressStyleModel",
      "_view_count": null,
      "_view_module": "@jupyter-widgets/base",
      "_view_module_version": "1.2.0",
      "_view_name": "StyleView",
      "bar_color": null,
      "description_width": ""
     }
    },
    "6b27c13c41284ed7accff42fe6bdfe11": {
     "model_module": "@jupyter-widgets/controls",
     "model_name": "DescriptionStyleModel",
     "state": {
      "_model_module": "@jupyter-widgets/controls",
      "_model_module_version": "1.5.0",
      "_model_name": "DescriptionStyleModel",
      "_view_count": null,
      "_view_module": "@jupyter-widgets/base",
      "_view_module_version": "1.2.0",
      "_view_name": "StyleView",
      "description_width": ""
     }
    },
    "7bb57dd3070b49069e9ca664f1d9c135": {
     "model_module": "@jupyter-widgets/base",
     "model_name": "LayoutModel",
     "state": {
      "_model_module": "@jupyter-widgets/base",
      "_model_module_version": "1.2.0",
      "_model_name": "LayoutModel",
      "_view_count": null,
      "_view_module": "@jupyter-widgets/base",
      "_view_module_version": "1.2.0",
      "_view_name": "LayoutView",
      "align_content": null,
      "align_items": null,
      "align_self": null,
      "border": null,
      "bottom": null,
      "display": null,
      "flex": null,
      "flex_flow": null,
      "grid_area": null,
      "grid_auto_columns": null,
      "grid_auto_flow": null,
      "grid_auto_rows": null,
      "grid_column": null,
      "grid_gap": null,
      "grid_row": null,
      "grid_template_areas": null,
      "grid_template_columns": null,
      "grid_template_rows": null,
      "height": null,
      "justify_content": null,
      "justify_items": null,
      "left": null,
      "margin": null,
      "max_height": null,
      "max_width": null,
      "min_height": null,
      "min_width": null,
      "object_fit": null,
      "object_position": null,
      "order": null,
      "overflow": null,
      "overflow_x": null,
      "overflow_y": null,
      "padding": null,
      "right": null,
      "top": null,
      "visibility": null,
      "width": null
     }
    },
    "872fcd4618d7473abc29de1e5476a673": {
     "model_module": "@jupyter-widgets/base",
     "model_name": "LayoutModel",
     "state": {
      "_model_module": "@jupyter-widgets/base",
      "_model_module_version": "1.2.0",
      "_model_name": "LayoutModel",
      "_view_count": null,
      "_view_module": "@jupyter-widgets/base",
      "_view_module_version": "1.2.0",
      "_view_name": "LayoutView",
      "align_content": null,
      "align_items": null,
      "align_self": null,
      "border": null,
      "bottom": null,
      "display": null,
      "flex": null,
      "flex_flow": null,
      "grid_area": null,
      "grid_auto_columns": null,
      "grid_auto_flow": null,
      "grid_auto_rows": null,
      "grid_column": null,
      "grid_gap": null,
      "grid_row": null,
      "grid_template_areas": null,
      "grid_template_columns": null,
      "grid_template_rows": null,
      "height": null,
      "justify_content": null,
      "justify_items": null,
      "left": null,
      "margin": null,
      "max_height": null,
      "max_width": null,
      "min_height": null,
      "min_width": null,
      "object_fit": null,
      "object_position": null,
      "order": null,
      "overflow": null,
      "overflow_x": null,
      "overflow_y": null,
      "padding": null,
      "right": null,
      "top": null,
      "visibility": null,
      "width": null
     }
    },
    "8d8e0e0b281243c99499d07ff6a4cede": {
     "model_module": "@jupyter-widgets/base",
     "model_name": "LayoutModel",
     "state": {
      "_model_module": "@jupyter-widgets/base",
      "_model_module_version": "1.2.0",
      "_model_name": "LayoutModel",
      "_view_count": null,
      "_view_module": "@jupyter-widgets/base",
      "_view_module_version": "1.2.0",
      "_view_name": "LayoutView",
      "align_content": null,
      "align_items": null,
      "align_self": null,
      "border": null,
      "bottom": null,
      "display": null,
      "flex": null,
      "flex_flow": null,
      "grid_area": null,
      "grid_auto_columns": null,
      "grid_auto_flow": null,
      "grid_auto_rows": null,
      "grid_column": null,
      "grid_gap": null,
      "grid_row": null,
      "grid_template_areas": null,
      "grid_template_columns": null,
      "grid_template_rows": null,
      "height": null,
      "justify_content": null,
      "justify_items": null,
      "left": null,
      "margin": null,
      "max_height": null,
      "max_width": null,
      "min_height": null,
      "min_width": null,
      "object_fit": null,
      "object_position": null,
      "order": null,
      "overflow": null,
      "overflow_x": null,
      "overflow_y": null,
      "padding": null,
      "right": null,
      "top": null,
      "visibility": null,
      "width": null
     }
    },
    "974b0e153d2142d6868df4f2252b8666": {
     "model_module": "@jupyter-widgets/base",
     "model_name": "LayoutModel",
     "state": {
      "_model_module": "@jupyter-widgets/base",
      "_model_module_version": "1.2.0",
      "_model_name": "LayoutModel",
      "_view_count": null,
      "_view_module": "@jupyter-widgets/base",
      "_view_module_version": "1.2.0",
      "_view_name": "LayoutView",
      "align_content": null,
      "align_items": null,
      "align_self": null,
      "border": null,
      "bottom": null,
      "display": null,
      "flex": null,
      "flex_flow": null,
      "grid_area": null,
      "grid_auto_columns": null,
      "grid_auto_flow": null,
      "grid_auto_rows": null,
      "grid_column": null,
      "grid_gap": null,
      "grid_row": null,
      "grid_template_areas": null,
      "grid_template_columns": null,
      "grid_template_rows": null,
      "height": null,
      "justify_content": null,
      "justify_items": null,
      "left": null,
      "margin": null,
      "max_height": null,
      "max_width": null,
      "min_height": null,
      "min_width": null,
      "object_fit": null,
      "object_position": null,
      "order": null,
      "overflow": null,
      "overflow_x": null,
      "overflow_y": null,
      "padding": null,
      "right": null,
      "top": null,
      "visibility": null,
      "width": null
     }
    },
    "97b3329dd4804a819eae5fdd990657e2": {
     "model_module": "@jupyter-widgets/base",
     "model_name": "LayoutModel",
     "state": {
      "_model_module": "@jupyter-widgets/base",
      "_model_module_version": "1.2.0",
      "_model_name": "LayoutModel",
      "_view_count": null,
      "_view_module": "@jupyter-widgets/base",
      "_view_module_version": "1.2.0",
      "_view_name": "LayoutView",
      "align_content": null,
      "align_items": null,
      "align_self": null,
      "border": null,
      "bottom": null,
      "display": null,
      "flex": null,
      "flex_flow": null,
      "grid_area": null,
      "grid_auto_columns": null,
      "grid_auto_flow": null,
      "grid_auto_rows": null,
      "grid_column": null,
      "grid_gap": null,
      "grid_row": null,
      "grid_template_areas": null,
      "grid_template_columns": null,
      "grid_template_rows": null,
      "height": null,
      "justify_content": null,
      "justify_items": null,
      "left": null,
      "margin": null,
      "max_height": null,
      "max_width": null,
      "min_height": null,
      "min_width": null,
      "object_fit": null,
      "object_position": null,
      "order": null,
      "overflow": null,
      "overflow_x": null,
      "overflow_y": null,
      "padding": null,
      "right": null,
      "top": null,
      "visibility": null,
      "width": null
     }
    },
    "98c22efb49d14f1d9fa1521027fc9538": {
     "model_module": "@jupyter-widgets/controls",
     "model_name": "DescriptionStyleModel",
     "state": {
      "_model_module": "@jupyter-widgets/controls",
      "_model_module_version": "1.5.0",
      "_model_name": "DescriptionStyleModel",
      "_view_count": null,
      "_view_module": "@jupyter-widgets/base",
      "_view_module_version": "1.2.0",
      "_view_name": "StyleView",
      "description_width": ""
     }
    },
    "b90a60b90d684bf2851a7d23ec5ab562": {
     "model_module": "@jupyter-widgets/controls",
     "model_name": "DescriptionStyleModel",
     "state": {
      "_model_module": "@jupyter-widgets/controls",
      "_model_module_version": "1.5.0",
      "_model_name": "DescriptionStyleModel",
      "_view_count": null,
      "_view_module": "@jupyter-widgets/base",
      "_view_module_version": "1.2.0",
      "_view_name": "StyleView",
      "description_width": ""
     }
    },
    "b9baac87888f47348d13cf5c522678f6": {
     "model_module": "@jupyter-widgets/base",
     "model_name": "LayoutModel",
     "state": {
      "_model_module": "@jupyter-widgets/base",
      "_model_module_version": "1.2.0",
      "_model_name": "LayoutModel",
      "_view_count": null,
      "_view_module": "@jupyter-widgets/base",
      "_view_module_version": "1.2.0",
      "_view_name": "LayoutView",
      "align_content": null,
      "align_items": null,
      "align_self": null,
      "border": null,
      "bottom": null,
      "display": null,
      "flex": null,
      "flex_flow": null,
      "grid_area": null,
      "grid_auto_columns": null,
      "grid_auto_flow": null,
      "grid_auto_rows": null,
      "grid_column": null,
      "grid_gap": null,
      "grid_row": null,
      "grid_template_areas": null,
      "grid_template_columns": null,
      "grid_template_rows": null,
      "height": null,
      "justify_content": null,
      "justify_items": null,
      "left": null,
      "margin": null,
      "max_height": null,
      "max_width": null,
      "min_height": null,
      "min_width": null,
      "object_fit": null,
      "object_position": null,
      "order": null,
      "overflow": null,
      "overflow_x": null,
      "overflow_y": null,
      "padding": null,
      "right": null,
      "top": null,
      "visibility": null,
      "width": null
     }
    },
    "c1ec42f7c3c9443c94b805eaed2f4f87": {
     "model_module": "@jupyter-widgets/base",
     "model_name": "LayoutModel",
     "state": {
      "_model_module": "@jupyter-widgets/base",
      "_model_module_version": "1.2.0",
      "_model_name": "LayoutModel",
      "_view_count": null,
      "_view_module": "@jupyter-widgets/base",
      "_view_module_version": "1.2.0",
      "_view_name": "LayoutView",
      "align_content": null,
      "align_items": null,
      "align_self": null,
      "border": null,
      "bottom": null,
      "display": null,
      "flex": null,
      "flex_flow": null,
      "grid_area": null,
      "grid_auto_columns": null,
      "grid_auto_flow": null,
      "grid_auto_rows": null,
      "grid_column": null,
      "grid_gap": null,
      "grid_row": null,
      "grid_template_areas": null,
      "grid_template_columns": null,
      "grid_template_rows": null,
      "height": null,
      "justify_content": null,
      "justify_items": null,
      "left": null,
      "margin": null,
      "max_height": null,
      "max_width": null,
      "min_height": null,
      "min_width": null,
      "object_fit": null,
      "object_position": null,
      "order": null,
      "overflow": null,
      "overflow_x": null,
      "overflow_y": null,
      "padding": null,
      "right": null,
      "top": null,
      "visibility": null,
      "width": null
     }
    },
    "ceb312335d454e3da5c460a965b425d0": {
     "model_module": "@jupyter-widgets/controls",
     "model_name": "HBoxModel",
     "state": {
      "_dom_classes": [],
      "_model_module": "@jupyter-widgets/controls",
      "_model_module_version": "1.5.0",
      "_model_name": "HBoxModel",
      "_view_count": null,
      "_view_module": "@jupyter-widgets/controls",
      "_view_module_version": "1.5.0",
      "_view_name": "HBoxView",
      "box_style": "",
      "children": [
       "IPY_MODEL_40d2c12153de4d45a9f13f13405bed9b",
       "IPY_MODEL_d02bd5cdaab344839a879559390e1091"
      ],
      "layout": "IPY_MODEL_4fc94422e2154f5ab30cb6e5e7a1306c"
     }
    },
    "d02bd5cdaab344839a879559390e1091": {
     "model_module": "@jupyter-widgets/controls",
     "model_name": "HTMLModel",
     "state": {
      "_dom_classes": [],
      "_model_module": "@jupyter-widgets/controls",
      "_model_module_version": "1.5.0",
      "_model_name": "HTMLModel",
      "_view_count": null,
      "_view_module": "@jupyter-widgets/controls",
      "_view_module_version": "1.5.0",
      "_view_name": "HTMLView",
      "description": "",
      "description_tooltip": null,
      "layout": "IPY_MODEL_7bb57dd3070b49069e9ca664f1d9c135",
      "placeholder": "​",
      "style": "IPY_MODEL_f8ca39a97cbc44ffbd8389bc27e2d52f",
      "value": "32768it [00:05, 6351.29it/s]"
     }
    },
    "d18f1830350945cab465770178d5366d": {
     "model_module": "@jupyter-widgets/controls",
     "model_name": "IntProgressModel",
     "state": {
      "_dom_classes": [],
      "_model_module": "@jupyter-widgets/controls",
      "_model_module_version": "1.5.0",
      "_model_name": "IntProgressModel",
      "_view_count": null,
      "_view_module": "@jupyter-widgets/controls",
      "_view_module_version": "1.5.0",
      "_view_name": "ProgressView",
      "bar_style": "success",
      "description": "",
      "description_tooltip": null,
      "layout": "IPY_MODEL_8d8e0e0b281243c99499d07ff6a4cede",
      "max": 1,
      "min": 0,
      "orientation": "horizontal",
      "style": "IPY_MODEL_69747ede55db406aa8ce10385ec8a347",
      "value": 1
     }
    },
    "d66b7ef7d5f54d2e98d02c53c9f8048f": {
     "model_module": "@jupyter-widgets/base",
     "model_name": "LayoutModel",
     "state": {
      "_model_module": "@jupyter-widgets/base",
      "_model_module_version": "1.2.0",
      "_model_name": "LayoutModel",
      "_view_count": null,
      "_view_module": "@jupyter-widgets/base",
      "_view_module_version": "1.2.0",
      "_view_name": "LayoutView",
      "align_content": null,
      "align_items": null,
      "align_self": null,
      "border": null,
      "bottom": null,
      "display": null,
      "flex": null,
      "flex_flow": null,
      "grid_area": null,
      "grid_auto_columns": null,
      "grid_auto_flow": null,
      "grid_auto_rows": null,
      "grid_column": null,
      "grid_gap": null,
      "grid_row": null,
      "grid_template_areas": null,
      "grid_template_columns": null,
      "grid_template_rows": null,
      "height": null,
      "justify_content": null,
      "justify_items": null,
      "left": null,
      "margin": null,
      "max_height": null,
      "max_width": null,
      "min_height": null,
      "min_width": null,
      "object_fit": null,
      "object_position": null,
      "order": null,
      "overflow": null,
      "overflow_x": null,
      "overflow_y": null,
      "padding": null,
      "right": null,
      "top": null,
      "visibility": null,
      "width": null
     }
    },
    "d84af69013d349219e67e3fa711c77ec": {
     "model_module": "@jupyter-widgets/base",
     "model_name": "LayoutModel",
     "state": {
      "_model_module": "@jupyter-widgets/base",
      "_model_module_version": "1.2.0",
      "_model_name": "LayoutModel",
      "_view_count": null,
      "_view_module": "@jupyter-widgets/base",
      "_view_module_version": "1.2.0",
      "_view_name": "LayoutView",
      "align_content": null,
      "align_items": null,
      "align_self": null,
      "border": null,
      "bottom": null,
      "display": null,
      "flex": null,
      "flex_flow": null,
      "grid_area": null,
      "grid_auto_columns": null,
      "grid_auto_flow": null,
      "grid_auto_rows": null,
      "grid_column": null,
      "grid_gap": null,
      "grid_row": null,
      "grid_template_areas": null,
      "grid_template_columns": null,
      "grid_template_rows": null,
      "height": null,
      "justify_content": null,
      "justify_items": null,
      "left": null,
      "margin": null,
      "max_height": null,
      "max_width": null,
      "min_height": null,
      "min_width": null,
      "object_fit": null,
      "object_position": null,
      "order": null,
      "overflow": null,
      "overflow_x": null,
      "overflow_y": null,
      "padding": null,
      "right": null,
      "top": null,
      "visibility": null,
      "width": null
     }
    },
    "d865ed2098944935a9a27245bde5f2b9": {
     "model_module": "@jupyter-widgets/controls",
     "model_name": "IntProgressModel",
     "state": {
      "_dom_classes": [],
      "_model_module": "@jupyter-widgets/controls",
      "_model_module_version": "1.5.0",
      "_model_name": "IntProgressModel",
      "_view_count": null,
      "_view_module": "@jupyter-widgets/controls",
      "_view_module_version": "1.5.0",
      "_view_name": "ProgressView",
      "bar_style": "success",
      "description": "",
      "description_tooltip": null,
      "layout": "IPY_MODEL_97b3329dd4804a819eae5fdd990657e2",
      "max": 1,
      "min": 0,
      "orientation": "horizontal",
      "style": "IPY_MODEL_306b116c7830404a9cd207038503587d",
      "value": 1
     }
    },
    "e36be13b19bd4c58b460d51057f23045": {
     "model_module": "@jupyter-widgets/base",
     "model_name": "LayoutModel",
     "state": {
      "_model_module": "@jupyter-widgets/base",
      "_model_module_version": "1.2.0",
      "_model_name": "LayoutModel",
      "_view_count": null,
      "_view_module": "@jupyter-widgets/base",
      "_view_module_version": "1.2.0",
      "_view_name": "LayoutView",
      "align_content": null,
      "align_items": null,
      "align_self": null,
      "border": null,
      "bottom": null,
      "display": null,
      "flex": null,
      "flex_flow": null,
      "grid_area": null,
      "grid_auto_columns": null,
      "grid_auto_flow": null,
      "grid_auto_rows": null,
      "grid_column": null,
      "grid_gap": null,
      "grid_row": null,
      "grid_template_areas": null,
      "grid_template_columns": null,
      "grid_template_rows": null,
      "height": null,
      "justify_content": null,
      "justify_items": null,
      "left": null,
      "margin": null,
      "max_height": null,
      "max_width": null,
      "min_height": null,
      "min_width": null,
      "object_fit": null,
      "object_position": null,
      "order": null,
      "overflow": null,
      "overflow_x": null,
      "overflow_y": null,
      "padding": null,
      "right": null,
      "top": null,
      "visibility": null,
      "width": null
     }
    },
    "f8ca39a97cbc44ffbd8389bc27e2d52f": {
     "model_module": "@jupyter-widgets/controls",
     "model_name": "DescriptionStyleModel",
     "state": {
      "_model_module": "@jupyter-widgets/controls",
      "_model_module_version": "1.5.0",
      "_model_name": "DescriptionStyleModel",
      "_view_count": null,
      "_view_module": "@jupyter-widgets/base",
      "_view_module_version": "1.2.0",
      "_view_name": "StyleView",
      "description_width": ""
     }
    }
   }
  }
 },
 "nbformat": 4,
 "nbformat_minor": 1
}
